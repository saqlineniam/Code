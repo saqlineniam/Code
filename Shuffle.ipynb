{
  "nbformat": 4,
  "nbformat_minor": 0,
  "metadata": {
    "colab": {
      "provenance": []
    },
    "kernelspec": {
      "name": "python3",
      "display_name": "Python 3"
    },
    "language_info": {
      "name": "python"
    }
  },
  "cells": [
    {
      "cell_type": "code",
      "execution_count": null,
      "metadata": {
        "id": "WzBlmJDjSiLT"
      },
      "outputs": [],
      "source": [
        "import openpyxl\n",
        "import random\n",
        "\n",
        "def shuffle_vocabs(vocabs_excel_file, output_excel_file):\n",
        "\n",
        "\n",
        "    wb = openpyxl.load_workbook(vocabs_excel_file)\n",
        "\n",
        "    sheet = wb.active\n",
        "\n",
        "    vocabs = []\n",
        "    for row in sheet.iter_rows(min_row=1, max_row=90, min_col=1, max_col=8, values_only=True):\n",
        "        vocabs.extend(row)\n",
        "\n",
        "    random.shuffle(vocabs)\n",
        "\n",
        "    wb_new = openpyxl.Workbook()\n",
        "    sheet_new = wb_new.active\n",
        "\n",
        "    row_count = 1\n",
        "    col_count = 1\n",
        "    for vocab in vocabs:\n",
        "        sheet_new.cell(row=row_count, column=col_count, value=vocab)\n",
        "        row_count += 1\n",
        "        if row_count > 120:\n",
        "            row_count = 1\n",
        "            col_count += 1\n",
        "\n",
        "    wb_new.save(output_excel_file)\n",
        "\n",
        "\n",
        "def main():\n",
        "\n",
        "    vocabs_excel_file = \"vocabs.xlsx\"\n",
        "    output_excel_file = \"shuffled_vocabs.xlsx\"\n",
        "\n",
        "    shuffle_vocabs(vocabs_excel_file, output_excel_file)\n",
        "\n",
        "\n",
        "if __name__ == \"__main__\":\n",
        "    main()\n"
      ]
    }
  ]
}